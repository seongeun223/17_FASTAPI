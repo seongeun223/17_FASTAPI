{
 "cells": [
  {
   "cell_type": "code",
   "execution_count": 2,
   "metadata": {},
   "outputs": [
    {
     "name": "stdout",
     "output_type": "stream",
     "text": [
      "0 0\n"
     ]
    }
   ],
   "source": [
    "h, m = map(int, input().split())\n",
    "t = int(input())\n",
    "\n",
    "if (m + t) < 60:\n",
    "    print(h, m + t)\n",
    "else:\n",
    "    if h < 23:\n",
    "        print(h + ((m + t) // 60), (m + t) % 60)\n",
    "    else:\n",
    "        print((h + ((m + t) // 60)) % 24, (m + t) % 60)"
   ]
  }
 ],
 "metadata": {
  "kernelspec": {
   "display_name": "pylecture_env",
   "language": "python",
   "name": "python3"
  },
  "language_info": {
   "codemirror_mode": {
    "name": "ipython",
    "version": 3
   },
   "file_extension": ".py",
   "mimetype": "text/x-python",
   "name": "python",
   "nbconvert_exporter": "python",
   "pygments_lexer": "ipython3",
   "version": "3.12.7"
  }
 },
 "nbformat": 4,
 "nbformat_minor": 2
}
